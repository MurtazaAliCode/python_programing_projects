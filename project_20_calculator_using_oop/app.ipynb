{
 "cells": [
  {
   "cell_type": "markdown",
   "metadata": {},
   "source": [
    "## simple calculator using oop"
   ]
  },
  {
   "cell_type": "markdown",
   "metadata": {},
   "source": []
  },
  {
   "cell_type": "code",
   "execution_count": null,
   "metadata": {
    "vscode": {
     "languageId": "plaintext"
    }
   },
   "outputs": [],
   "source": [
    "class Calculator():\n",
    "\n",
    "    def addition(self,num1,num2):\n",
    "        return num1 + num2 \n",
    "\n",
    "    def subtraction(self,num1,num2):\n",
    "        return num1 - num2 \n",
    "\n",
    "    def multiplication(self,num1,num2):\n",
    "        return num1 * num2 \n",
    "\n",
    "    def division(self,num1,num2):\n",
    "        return num1 / num2 \n",
    "\n",
    "user1 = Calculator()\n",
    "num1 = int(input(\"enter 1st number ; \"))\n",
    "num2 = int(input(\"enter 2nd number ; \"))\n",
    "print(user1.addition(num1 , num2))\n",
    "print(user1.subtraction(num1 , num2))\n",
    "print(user1.multiplication(num1 , num2))\n",
    "print(user1.division(num1 , num2))"
   ]
  }
 ],
 "metadata": {
  "language_info": {
   "name": "python"
  }
 },
 "nbformat": 4,
 "nbformat_minor": 2
}
